{
 "cells": [
  {
   "cell_type": "code",
   "execution_count": 1,
   "id": "54cbeed1",
   "metadata": {},
   "outputs": [],
   "source": [
    "import numpy as np\n",
    "from matplotlib import pyplot as plt\n",
    "import cv2\n",
    "\n",
    "def disp_img(ax, img, title=None, rand_color=False):\n",
    "    if img.max() == 1 and img.dtype == np.uint8:\n",
    "        img = img*255\n",
    "    if rand_color:\n",
    "        img = img.astype(np.uint8)\n",
    "        img = cv2.cvtColor(img, cv2.COLOR_GRAY2BGR);\n",
    "        colors = np.random.randint(0, 255, size=(256, 1, 3)).astype(np.uint8)\n",
    "        colors[0] = 255\n",
    "        img_col = cv2.LUT(img, colors)\n",
    "        ax.imshow(img_col)\n",
    "    else:\n",
    "        ax.imshow(img, cmap='gray')\n",
    "    if title:\n",
    "        ax.set_title(title)\n",
    "    ax.axis(False)"
   ]
  },
  {
   "cell_type": "markdown",
   "id": "7fc550a9",
   "metadata": {},
   "source": [
    "---\n",
    "#### P4: Morphological Operations\n",
    "\n",
    "---\n",
    "<div class=\"alert alert-info\">\n",
    "<p>\n",
    "University of Applied Sciences Munich<br>\n",
    "Dept of Electrical Enineering and Information Technology<br>\n",
    "Institute for Applications of Machine Learning and Intelligent Systems (IAMLIS)<br>\n",
    "&emsp;&emsp;&emsp;&emsp;&emsp;&emsp;&emsp;&emsp;&emsp;&emsp;&emsp;&emsp;&emsp;&emsp;&emsp;&emsp;\n",
    "&emsp;&emsp;&emsp;&emsp;&emsp;&emsp;&emsp;&emsp;&emsp;&emsp;&emsp;&emsp;&emsp;&emsp;&emsp;&emsp;\n",
    "&emsp;&emsp;&emsp;&emsp;&emsp;&emsp;&emsp;&emsp;&emsp;&emsp;&emsp;&emsp;&emsp;&emsp;&emsp;&emsp;&emsp;&emsp;&emsp;&emsp;(c) Alfred Schöttl 2024<br>\n",
    "</p>\n",
    "</div> \n",
    "\n",
    "In this notebook, you shall count the number of teeth on a cog utilizing morphological operations. \n",
    "\n",
    "__*Helpful tools:*__\n",
    "You will need to display a lot of images. The helper function `disp_img` shall assist you. Use it by defining a figure and one or several _axes_ (another word for subplots) first:\n",
    "- `fig, ax = plt.subplots(figsize=(18,12))`          for one axis (the size is in inch)\n",
    "- `fig, axs = plt.subplots(1, 3, figsize=(18,12))`   for several axes (here, 1 row with 3 images can be displayed)\n",
    "\n",
    "The argument `figsize` is optional, it defines the size of the whole figure. Then, plot an image by\n",
    "- `disp_img(ax, img, 'my image')` for one axis\n",
    "- `disp_img(axs[1], img, 'my_image')` for several axes, the image is displayed on the second axis `axs[1]`\n",
    "\n",
    "The additional argument `rand_color=True` in `disp_img` can be set to replace gray values by random colors which will turn out to the helpful at the end of the assignment. "
   ]
  },
  {
   "cell_type": "markdown",
   "id": "4e4de6d5",
   "metadata": {},
   "source": [
    "## Assignment\n",
    "This time, everything is up to you! You are given an RGB image. Your task is to count the number of teeth on the cog. Use the function `disp_img(...)` to display the image as described above. You should give every displayed imaga a unique name."
   ]
  },
  {
   "cell_type": "code",
   "execution_count": null,
   "id": "8fa5e6e6",
   "metadata": {},
   "outputs": [],
   "source": [
    "img = "
   ]
  },
  {
   "cell_type": "markdown",
   "id": "d53d6dbd",
   "metadata": {},
   "source": [
    "## 1. Preprocessing\n",
    "Obtain a binary image of the big cog (cut off the screws). You may hard-code the coordinates. Do not forget to blur the image a little! The preprocessed image shall be stored in `img_preproc`. _It is useful for the further processing steps if the segments of interest (the cog) is represented by on-pixels (value 1) and the background by off-pixels (value 0)._\n",
    "\n",
    "_Tips_:\n",
    "- Use numpy slices like `A[23:167, :500]` to slice the image spatially.\n",
    "- Use numpy conditions like `A > 100` to get a boolean image. Use `(A>100).astype(np.uint8)` to convert it to a byte image which might be easier to work with later.\n",
    "- Plot the intermediate results.\n",
    "- _If you are not sure about your result: an exemplary result of img_preproc is given for reference at the end of this notebook._"
   ]
  },
  {
   "cell_type": "code",
   "execution_count": null,
   "id": "be5c1b89",
   "metadata": {},
   "outputs": [],
   "source": []
  },
  {
   "cell_type": "markdown",
   "id": "31185fdd",
   "metadata": {},
   "source": [
    "## 2. Morphological operations on the binary image\n",
    "Any ideas of how to apply morphological operations to come closer to our goal? Think about it a little, you will need several steps. Save the result of your morphological operations as `img_morph`.\n",
    "\n",
    "_Tips:_\n",
    "- It is sufficient to use a combination of the morphological operations `cv2.erode(..., se)`, `cv2.dilate(..., se)` (see the documentation). \n",
    "- The operations need a _structuring element_ `se`, which can be obtained by `se = cv2.getStructuringElement(element, (sizeX, sizeY))`. Available elements are `cv2.MORPH_ELLIPSE`, `cv2.MORPH_RECT`, `cv2.MORPH_CROSS`, you can also define arbitrary elements just by a `uint8` numpy array. Try `print(cv2.getStructuringElement(cv2.MORPH_ELLIPSE, (6,6)))` to get a feeling for the elements.\n",
    "- All morphological operations have an optional argument `iterations=` which is very useful if you want to apply the operation several times.\n",
    "- Again, you will need to play with parameters. It is therefore very helpful to visualize every intermediate step.\n",
    "- You will need to subtract two images in a later step. Be cautious with differences of byte-valued (`np.uint8`) images! Numpy implements the ordinary modulo 256 arithmetic (13-14=255) for them! Change the data type before taking the difference or use the OpenCV function `cv2.subtract(img1, img2)` which implements clipping (13-14=0). \n",
    "- _If you are not sure about your method: an exemplary result of an intermediate step is given for reference at the end of this notebook._"
   ]
  },
  {
   "cell_type": "code",
   "execution_count": null,
   "id": "552b9b2e",
   "metadata": {},
   "outputs": [],
   "source": []
  },
  {
   "cell_type": "markdown",
   "id": "d3777e7d",
   "metadata": {},
   "source": [
    "## 3. Connected component analysis\n",
    "Your final result `ìmg_morph` of the last section should now consist of lots of blobs, one for each cog. \n",
    "\n",
    "Use the 2-pass algorithm we encountered in class. The OpenCV implementation `cnt, lbl_img, stats, centroids = cv2.connectedComponentsWithStats(...)` returns the processed `lbl_img` as well as the number `cnt` of connected components. The `stats` is a list of tuples with 5 numbers, containing the bounding box coordinates for each component and its area in pixels. The `centroids` is a list of center points of the detected components. Since the image itself is seen as a component (the first one in the lists), you have to subtract 1 from the returned `cnt`.\n",
    "\n",
    "We print out the number of the detected components and the returned image. The returned image contains the number of the component as gray value for each pixel. This may be difficult to visualize since similar gray values can hardly be distinguished. Try out `disp_img(lbl_img, 'labeled image', rand_color=True)` which gives every gray value a random color.\n",
    "\n",
    "_Optional:_ \n",
    "Another approach is to use `cv2.findCountours` and `cv2.drawContours` to detect and plot the contours of the connected components. Try it out!"
   ]
  },
  {
   "cell_type": "code",
   "execution_count": null,
   "id": "44c33dec",
   "metadata": {},
   "outputs": [],
   "source": [
    "cnt, lbl_img, stats, centroids = \n",
    "print(\n",
    "\n",
    "plt.subplots(figsize=(18,12))             # enlarges the image which may help if you want to analyse single pixels\n",
    "disp_img("
   ]
  },
  {
   "cell_type": "markdown",
   "id": "3403aa35",
   "metadata": {},
   "source": [
    "---\n",
    "\n",
    "### Hints if you are unsure:\n",
    "Here is an exemplary result of the first section (`img_preproc`):\n",
    "![P4_target_1.png](P4_target_1.png)\n"
   ]
  },
  {
   "cell_type": "markdown",
   "id": "e8e14087",
   "metadata": {},
   "source": [
    "This is an intermediate result of the second section. To obtain the result `img_morph` of the second section, you have to subtract another image and postprocess the difference:\n",
    "![P4_target_2.png](P4_target_2.png)\n"
   ]
  },
  {
   "cell_type": "code",
   "execution_count": null,
   "id": "17ce0886",
   "metadata": {},
   "outputs": [],
   "source": []
  }
 ],
 "metadata": {
  "kernelspec": {
   "display_name": "Python 3 (ipykernel)",
   "language": "python",
   "name": "python3"
  },
  "language_info": {
   "codemirror_mode": {
    "name": "ipython",
    "version": 3
   },
   "file_extension": ".py",
   "mimetype": "text/x-python",
   "name": "python",
   "nbconvert_exporter": "python",
   "pygments_lexer": "ipython3",
   "version": "3.9.13"
  }
 },
 "nbformat": 4,
 "nbformat_minor": 5
}
