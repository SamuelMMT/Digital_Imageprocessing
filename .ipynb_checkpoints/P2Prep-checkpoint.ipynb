{
 "cells": [
  {
   "cell_type": "code",
   "execution_count": 1,
   "id": "e895078e",
   "metadata": {},
   "outputs": [],
   "source": [
    "%matplotlib qt\n",
    "# It is better to view the results in separate windows so that you\n",
    "# can zoom in more comfortably. If an error pops up that no qt bindings\n",
    "# can be found, install the package pyqt5 by the command\n",
    "#   pip install pyqt5\n",
    "# If everything fails change to %matplotlib (without qt) or %matplotlib inline\n",
    "import numpy as np\n",
    "import cv2\n",
    "import matplotlib.pyplot as plt\n",
    "\n",
    "# a function which will be helpful:\n",
    "\n",
    "def plot_spectrum(spc, wintitle):\n",
    "    plt.figure(wintitle)\n",
    "    plt.clf()\n",
    "    center_x, center_y = np.round(spc.shape[1]/2), np.round(spc.shape[0]/2)\n",
    "    plt.plot([0, spc.shape[1]], [center_y, center_y], 'r--', linewidth=0.5)\n",
    "    plt.plot([center_x, center_x], [0, spc.shape[0]], 'r--', linewidth=0.5)\n",
    "    plt.imshow(spc)\n",
    "    plt.show()"
   ]
  },
  {
   "cell_type": "markdown",
   "id": "f574a9b5",
   "metadata": {},
   "source": [
    "---\n",
    "#### P2Prep: Fourier transforms and directional derivatives\n",
    "\n",
    "---\n",
    "<div class=\"alert alert-info\">\n",
    "<p>\n",
    "University of Applied Sciences Munich<br>\n",
    "Dept of Electrical Enineering and Information Technology<br>\n",
    "Institute for Applications of Machine Learning and Intelligent Systems (IAMLIS)<br>\n",
    "&emsp;&emsp;&emsp;&emsp;&emsp;&emsp;&emsp;&emsp;&emsp;&emsp;&emsp;&emsp;&emsp;&emsp;&emsp;&emsp;\n",
    "&emsp;&emsp;&emsp;&emsp;&emsp;&emsp;&emsp;&emsp;&emsp;&emsp;&emsp;&emsp;&emsp;&emsp;&emsp;&emsp;\n",
    "&emsp;&emsp;&emsp;&emsp;&emsp;&emsp;&emsp;&emsp;&emsp;&emsp;&emsp;&emsp;&emsp;&emsp;&emsp;&emsp;&emsp;&emsp;&emsp;&emsp;(c) Alfred Schöttl 2023<br>\n",
    "</p>\n",
    "</div>\n",
    "\n",
    "In this notebook, we will check that your installation is capable of calculating and displaying a Fourier transform. We will furthermore get to know the basic Fourier operations. In the second part we repeat the notion of a directional derivative which will also be needed in the next session."
   ]
  },
  {
   "cell_type": "markdown",
   "id": "d23a6741",
   "metadata": {},
   "source": [
    "## 1. Create a simple test image:"
   ]
  },
  {
   "cell_type": "code",
   "execution_count": 2,
   "id": "f1bc3fe1",
   "metadata": {},
   "outputs": [
    {
     "data": {
      "text/plain": [
       "<matplotlib.image.AxesImage at 0x1f609d42540>"
      ]
     },
     "execution_count": 2,
     "metadata": {},
     "output_type": "execute_result"
    }
   ],
   "source": [
    "img = (((np.indices((48,48))//8).sum(axis=0)) % 2).astype(float)  # you do not need to understand this\n",
    "plt.imshow(img)"
   ]
  },
  {
   "cell_type": "markdown",
   "id": "71ad13c5",
   "metadata": {},
   "source": [
    "## 2. Try out the following Fourier functions of OpenCV and numpy:\n",
    "- Use the function `cv2.dft(..., flags=cv2.DFT_COMPLEX_OUTPUT)` to compute the (complex) spectrum of `img`. The real and imaginary part are stored as two channels of a `float` image.\n",
    "- Use the function `np.fft.fftshift` to shift the origin of the fft in the center of the spectrum image.\n",
    "- Use the function `mag, phase = cv2.cartToPolar(`_real spectral part_, _imaginary spectral part_ `)` to convert the Re/Im representation of the spectrum to an Euler (magnitude/phase) representation.\n",
    "- Use the already prepared function `plot_spectrum` to display the logarithm of the magnitude."
   ]
  },
  {
   "cell_type": "code",
   "execution_count": null,
   "id": "cbc34c4f",
   "metadata": {},
   "outputs": [],
   "source": [
    "ft = cv2.dft(img, flags=cv2.DFT_COMPLEX_OUTPUT)\n",
    "dft_shifted = np.fft.fftshift()\n",
    "mag, phase = cv2.cartToPolar(ft[0], ft[1])\n",
    "logmag = np.log(mag)\n",
    "plot_spectrum(logmag, 'Spectrum')                                     # you may prefer plot_spectrum(mag, 'Spectrum')"
   ]
  },
  {
   "cell_type": "markdown",
   "id": "c90f0bd3",
   "metadata": {},
   "source": [
    "## 3. Understand directional derivatives\n",
    "Assume a function $f:R^2\\to R$, something like $f(x,y)=(y+1)^2+5\\cos(x)$."
   ]
  },
  {
   "cell_type": "code",
   "execution_count": 3,
   "id": "6f86808d",
   "metadata": {},
   "outputs": [],
   "source": [
    "def f(x,y):\n",
    "    return (y+1)**2 + 5*np.cos(x)"
   ]
  },
  {
   "cell_type": "markdown",
   "id": "1148e537",
   "metadata": {},
   "source": [
    "Let's display its graph."
   ]
  },
  {
   "cell_type": "code",
   "execution_count": 5,
   "id": "1455db56",
   "metadata": {
    "scrolled": true
   },
   "outputs": [
    {
     "data": {
      "text/plain": [
       "<mpl_toolkits.mplot3d.art3d.Poly3DCollection at 0x1f62961b770>"
      ]
     },
     "execution_count": 5,
     "metadata": {},
     "output_type": "execute_result"
    }
   ],
   "source": [
    "x = y = np.arange(-3.0, 3.0, 0.1)\n",
    "X, Y = np.meshgrid(x, y)\n",
    "Z = f(X, Y)\n",
    "ax = plt.axes(projection='3d')\n",
    "ax.plot_surface(X, Y, Z, cmap='jet')"
   ]
  },
  {
   "cell_type": "markdown",
   "id": "e652356e",
   "metadata": {},
   "source": [
    "Calculate the approximate gradient $\\frac{\\partial f}{\\partial (x,y)}$ of $f$ at $(1,0)$ by hand (and calculator) and write down the result as numpy array `grad` in the next cell. Interpret the values with the help of the displayed graph. \n",
    "\n",
    "_Hint_: This gradient is a vector with two elements."
   ]
  },
  {
   "cell_type": "code",
   "execution_count": 6,
   "id": "9e8dc0cc",
   "metadata": {},
   "outputs": [],
   "source": [
    "grad = np.array([..., ...])"
   ]
  },
  {
   "cell_type": "markdown",
   "id": "74a82e9d",
   "metadata": {},
   "source": [
    "The first element of the gradient is $\\partial f/\\partial x$, which is the derivative of $f$ in the direction $(1,0)$. The second element of the gradient is $\\partial f/\\partial y$, which is the derivative of $f$ in the direction $(0,1)$. \n",
    "\n",
    "What is the derivative of $f$ in the direction $r=(0.707, 0.707)$? Let's call it `df_dr`. Add the missing line in the next cell.\n",
    "\n",
    "_Remark_: Directions are typically normalized to length 1. So, $(0.707, 0.707)=(\\frac{1}{\\sqrt{2}},\\frac{1}{\\sqrt{2}})$ is just the \"diagonal\" direction $(1,1)$ normalized by its length $\\| (1,1)\\|$."
   ]
  },
  {
   "cell_type": "code",
   "execution_count": 7,
   "id": "88c6f6c6",
   "metadata": {},
   "outputs": [
    {
     "name": "stdout",
     "output_type": "stream",
     "text": [
      "Ellipsis\n"
     ]
    }
   ],
   "source": [
    "r = np.array([1,1])\n",
    "r = r / np.linalg.norm(r)\n",
    "df_dr = ...\n",
    "print(df_dr)"
   ]
  },
  {
   "cell_type": "markdown",
   "id": "019e737d",
   "metadata": {},
   "source": [
    "Also try out other directions."
   ]
  },
  {
   "cell_type": "code",
   "execution_count": null,
   "id": "31bd4eed-c23c-4d9f-a0e3-45f000fa840b",
   "metadata": {},
   "outputs": [],
   "source": []
  }
 ],
 "metadata": {
  "kernelspec": {
   "display_name": "Python 3 (ipykernel)",
   "language": "python",
   "name": "python3"
  },
  "language_info": {
   "codemirror_mode": {
    "name": "ipython",
    "version": 3
   },
   "file_extension": ".py",
   "mimetype": "text/x-python",
   "name": "python",
   "nbconvert_exporter": "python",
   "pygments_lexer": "ipython3",
   "version": "3.12.0"
  }
 },
 "nbformat": 4,
 "nbformat_minor": 5
}
