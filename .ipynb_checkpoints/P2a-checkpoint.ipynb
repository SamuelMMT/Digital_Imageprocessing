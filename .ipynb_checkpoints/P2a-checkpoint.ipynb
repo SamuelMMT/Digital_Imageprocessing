{
 "cells": [
  {
   "cell_type": "code",
   "execution_count": 2,
   "id": "6c7da55e",
   "metadata": {},
   "outputs": [],
   "source": [
    "%matplotlib qt\n",
    "# It is better to view the results in separate windows so that you\n",
    "# can zoom in more comfortably. If an error pops up that no qt bindings\n",
    "# can be found, install the package pyqt5 by the command\n",
    "#   pip install pyqt5\n",
    "# If everything fails change to %matplotlib (without qt) or %matplotlib inline\n",
    "import numpy as np\n",
    "import cv2\n",
    "import matplotlib.pyplot as plt\n",
    "\n",
    "# some functions which will be helpful:\n",
    "\n",
    "def plot_spectrum(spc, wintitle):\n",
    "    plt.figure(wintitle)\n",
    "    plt.clf()\n",
    "    center_x, center_y = np.round(spc.shape[1]/2), np.round(spc.shape[0]/2)\n",
    "    plt.plot([0, spc.shape[1]], [center_y, center_y], 'r--', linewidth=0.5)\n",
    "    plt.plot([center_x, center_x], [0, spc.shape[0]], 'r--', linewidth=0.5)\n",
    "    plt.imshow(spc)\n",
    "    plt.show()\n",
    "    \n",
    "def plot_img(img, wintitle, **kwargs):\n",
    "    plt.figure(wintitle)\n",
    "    plt.clf()\n",
    "    plt.imshow(img, **kwargs)\n",
    "    plt.show()\n",
    "\n",
    "def ringmask(r_in, r_out, nrows, ncols):\n",
    "    '''Generates an array of size nrows x ncols containing a ring with inner radius r_in \n",
    "    and outer radius r_out'''\n",
    "    x = np.linspace(-ncols/2, ncols/2, num=ncols)\n",
    "    y = np.linspace(-nrows/2, nrows/2, num=nrows)\n",
    "    X, Y = np.meshgrid(x, y)\n",
    "    d = X**2 + Y**2\n",
    "    return np.logical_and(d >= r_in**2, d <= r_out**2).astype(np.uint8)"
   ]
  },
  {
   "cell_type": "markdown",
   "id": "f0d97294",
   "metadata": {},
   "source": [
    "---\n",
    "#### P2a: The 2D Fourier Transform\n",
    "\n",
    "---\n",
    "<div class=\"alert alert-info\">\n",
    "<p>\n",
    "University of Applied Sciences Munich<br>\n",
    "Dept of Electrical Enineering and Information Technology<br>\n",
    "Institute for Applications of Machine Learning and Intelligent Systems (IAMLIS)<br>\n",
    "&emsp;&emsp;&emsp;&emsp;&emsp;&emsp;&emsp;&emsp;&emsp;&emsp;&emsp;&emsp;&emsp;&emsp;&emsp;&emsp;\n",
    "&emsp;&emsp;&emsp;&emsp;&emsp;&emsp;&emsp;&emsp;&emsp;&emsp;&emsp;&emsp;&emsp;&emsp;&emsp;&emsp;\n",
    "&emsp;&emsp;&emsp;&emsp;&emsp;&emsp;&emsp;&emsp;&emsp;&emsp;&emsp;&emsp;&emsp;&emsp;&emsp;&emsp;&emsp;&emsp;&emsp;&emsp;(c) Alfred Schöttl 2023<br>\n",
    "</p>\n",
    "</div>\n",
    "\n",
    "In this notebook, we will investigate the Fourier transform of images."
   ]
  },
  {
   "cell_type": "markdown",
   "id": "467a2675",
   "metadata": {},
   "source": [
    "We have prepared several images for you so that you can investigate some properties of the Fourier transform. Let's start with the first (namely `fns[0]`) and try out all of them."
   ]
  },
  {
   "cell_type": "code",
   "execution_count": 18,
   "id": "a776f4ba",
   "metadata": {},
   "outputs": [],
   "source": [
    "fns = ['stripes1', 'stripes2', 'stripes3', 'stripes4', 'stripes5', 'disk1', 'disk2', 'ground1gray', 'ground2gray', \n",
    "       'meshgray', 'pattern']\n",
    "fn = './imgs/' + fns[6] + '.jpg'"
   ]
  },
  {
   "cell_type": "markdown",
   "id": "73d564c9",
   "metadata": {},
   "source": [
    "### 1. Read in the image and rescale it to 0..1\n",
    "Read in the image named fn as grayscale image and rescale it to float with values in 0..1. Use the function plot_img defined above to display the image. The function takes the image, the title of the plot and options (if needed, such as cmap='gray') as input. Print the shape of the image to ensure that it does not contain any color channels (only two numbers, height and width, shall be printed out).\n",
    "\n",
    "_Remark_: Since we will need to magnify the plots and look at singular pixels, it is more convenient not to include the plots in the notebook. We will open separate windows for each plot (just as we would have done from an ordinary Python program). "
   ]
  },
  {
   "cell_type": "code",
   "execution_count": 36,
   "id": "8a993aba",
   "metadata": {},
   "outputs": [
    {
     "name": "stdout",
     "output_type": "stream",
     "text": [
      "(640, 640)\n"
     ]
    }
   ],
   "source": [
    "img = cv2.imread(fn, cv2.IMREAD_GRAYSCALE)\n",
    "if img is None:\n",
    "    print(\"Couldn't open image.\")\n",
    "img = img.astype(float)\n",
    "img = img/np.max(img)\n",
    "print(img.shape)"
   ]
  },
  {
   "cell_type": "markdown",
   "id": "8b8ccf05",
   "metadata": {},
   "source": [
    "### 2. Perform the Fourier transform\n",
    "Apply the following operations:  \n",
    "- OpenCV knows the function `cv2.dft(img, flags=cv2.DFT_COMPLEX_OUTPUT)` which performs a Fourier transform. The output is an image of the same size as the original image with two channels. The first channel contains the real and the second the imaginary part of the Fourier coefficients. Save the result of the Fourier transform in `ft`.\n",
    "- The classical Fourier transform defines the origin (the zero frequencies in both directions) at (0,0) on the top left corner. It is more convenient in image processing to shift the origin in the middle of the plot. The shift is performed by `np.fft.fftshift(...)`, save the result in `ft_shifted`.\n",
    "- It is more convenient to consider the magnitude (and the phase) of the transform. Apply `cv2.cartToPolar(ft_shifted[:,:,0], ft_shifted[:,:,1])` to our transform. The result consists of two images which we will call `mag` and `phase`.\n",
    "- Details in the magnitude are better visible if we logarithmize `mag`. Save the result in `logmag`.\n",
    "- Plot the logarithm of the magnitude by the prepared function `plot_spectrum`. The arguments are the same as for `plot img`. Zoom in and investigate the singular pixels, especially in the area around the zero frequencies.\n",
    "\n",
    "_Hint_: Add a very small constant to `mag` to avoid evaluating the logarithm of zero magnitudes. "
   ]
  },
  {
   "cell_type": "code",
   "execution_count": 37,
   "id": "e93acbf7",
   "metadata": {},
   "outputs": [],
   "source": [
    "ft = cv2.dft(img, flags=cv2.DFT_COMPLEX_OUTPUT)\n",
    "ft_shifted = np.fft.fftshift(ft) \n",
    "mag, phase = cv2.cartToPolar(ft_shifted[:,:,0], ft_shifted[:,:,1])\n",
    "logmag = 20 * np.log((mag+0.0001))\n",
    "plot_spectrum(logmag, \"FFT log\")"
   ]
  },
  {
   "cell_type": "markdown",
   "id": "9564631d",
   "metadata": {},
   "source": [
    "### 3. Perform the inverse transform\n",
    "The steps we have just executed can be reverted. There will be some quality degradation however due to numerical issues. We start with the magnitude `mag` and the `phase` of a Fourier transform.\n",
    "- `cv2.polarToCart(mag, phase)` converts the imaginary data in polar representation into real/imaginary representation. The result is a pair of images holding the real and the imaginary part (call it `real`, `imag`).\n",
    "- Combine these two images to one image with two channels by the numpy-command `np.stack([real, imag], axis=2)`.  If you are not sure what this means, print the shape of the two input images and of the output image and interpret the printout. Save the result in `dft_mod_shifted`.\n",
    "- We can revert the shift of the origin by `np.fft.ifftshift(...)`, save the result in `dft_mod`.\n",
    "- Perform the inverse Fourier transform by `cv2.idft(..., flags=cv2.DFT_COMPLEX_OUTPUT)`. The imaginary part of the result should be (nearly) zero since the input was symmetrical. Our resulting image should therefore be readily available in the zeroth channel of the output.\n",
    "- Plot the reconstructed image by `plot_img`."
   ]
  },
  {
   "cell_type": "code",
   "execution_count": 54,
   "id": "97343796",
   "metadata": {},
   "outputs": [
    {
     "name": "stdout",
     "output_type": "stream",
     "text": [
      "(640, 640, 2)\n"
     ]
    }
   ],
   "source": [
    "real, imag = cv2.polarToCart(mag, phase)\n",
    "#print(np.shape(real))\n",
    "#print(np.shape(imag))\n",
    "dft_mod_shifted = np.stack([real, imag], axis = 2)\n",
    "#print(np.shape(dft_mod_shifted))    \n",
    "dft_mod = np.fft.ifftshift(dft_mod_shifted)\n",
    "reconstructed_img = cv2.idft(dft_mod, flags = cv2.DFT_COMPLEX_OUTPUT)\n",
    "print(np.shape(reconstructed_img))\n",
    "plot_img(reconstructed_img[:,:,0], \"reconstructed image\")"
   ]
  },
  {
   "cell_type": "markdown",
   "id": "47c050e9",
   "metadata": {},
   "source": [
    "### 4. Modify the magnitude\n",
    "It does not make sense to transform forth and back without analysis or modification in the frequency space. As an example, let us apply a ring mask to the magnitude. A _mask_ is a matrix of the same shape as an image containing values 0 and 1. _Masking_ zeros out all pixels of another image where the mask is zero.\n",
    "- Use the already defined function `ringmask(r_in, r_out, img.shape[0], img.shape[1])` to create a mask of size `img.shape` with a centered ring of inner radius `r_in` and outer radius `r_out`. (Try out different radii.)\n",
    "- Plot the mask to check if the ring was created successfully.\n",
    "- Apply the mask to the magnitude `mag` and save the result in `masked_mag`.\n",
    "- Perform the reconstruction with the masked magnitude and the original phase as in section 3."
   ]
  },
  {
   "cell_type": "code",
   "execution_count": 93,
   "id": "9f7354fe",
   "metadata": {},
   "outputs": [],
   "source": [
    "mask = ringmask(70,840, img.shape[0], img.shape[1])\n",
    "plot_img(mask, \"mask\")\n"
   ]
  },
  {
   "cell_type": "markdown",
   "id": "8aad4abc",
   "metadata": {},
   "source": [
    "### 5. Assignment\n",
    "Use the file `fence.jpg` and try to filter out the background incl. the reflections in the water by application of a ring mask to the Fourier transformed image. Try to keep the fence structure and surface visible. (Just try, the result will not be perfect.)"
   ]
  },
  {
   "cell_type": "code",
   "execution_count": 99,
   "id": "649cb421",
   "metadata": {},
   "outputs": [
    {
     "name": "stdout",
     "output_type": "stream",
     "text": [
      "(960, 1280)\n"
     ]
    }
   ],
   "source": [
    "img_fence = './imgs/fence.jpg'\n",
    "img = cv2.imread(img_fence, cv2.IMREAD_GRAYSCALE)\n",
    "if img is None:\n",
    "    print(\"Couldn't open image.\")\n",
    "img = img.astype(float)\n",
    "img = img/255\n",
    "print(img.shape)\n",
    "plot_img(img, \"original fence\")"
   ]
  },
  {
   "cell_type": "code",
   "execution_count": 100,
   "id": "aa9731cb-3170-4f5b-b7f0-0d14cb952425",
   "metadata": {
    "scrolled": true
   },
   "outputs": [],
   "source": [
    "ft = cv2.dft(img, flags=cv2.DFT_COMPLEX_OUTPUT | cv2.DFT_SCALE)\n",
    "ft_shifted = np.fft.fftshift(ft) \n",
    "mag, phase = cv2.cartToPolar(ft_shifted[:,:,0], ft_shifted[:,:,1])\n",
    "logmag = 20 * np.log((mag+0.0001))\n",
    "plot_spectrum(logmag, \"Fence FFT log\")"
   ]
  },
  {
   "cell_type": "code",
   "execution_count": 101,
   "id": "7f5e9862-9b57-41df-8eac-490cf4567634",
   "metadata": {},
   "outputs": [],
   "source": [
    "#apply mask here\n",
    "masked_mag = mask * mag"
   ]
  },
  {
   "cell_type": "code",
   "execution_count": 98,
   "id": "c02f1810-1001-4945-8043-07d087bd1e38",
   "metadata": {},
   "outputs": [
    {
     "name": "stdout",
     "output_type": "stream",
     "text": [
      "(960, 1280, 2)\n"
     ]
    }
   ],
   "source": [
    "real, imag = cv2.polarToCart(masked_mag, phase)\n",
    "#print(np.shape(real))\n",
    "#print(np.shape(imag))\n",
    "dft_mod_shifted = np.stack([real, imag], axis = 2)\n",
    "#print(np.shape(dft_mod_shifted))    \n",
    "dft_mod = np.fft.ifftshift(dft_mod_shifted)\n",
    "reconstructed_img = cv2.idft(dft_mod, flags = cv2.DFT_COMPLEX_OUTPUT)\n",
    "print(np.shape(reconstructed_img))\n",
    "plot_img(reconstructed_img[:,:,0], \"reconstructed Fence image\")"
   ]
  },
  {
   "cell_type": "code",
   "execution_count": null,
   "id": "4790a5ea-e0e2-496b-bb5f-cdb424e9cdf7",
   "metadata": {},
   "outputs": [],
   "source": []
  },
  {
   "cell_type": "code",
   "execution_count": null,
   "id": "324c8090-d94c-4dad-b672-7af4a5f94428",
   "metadata": {},
   "outputs": [],
   "source": []
  }
 ],
 "metadata": {
  "kernelspec": {
   "display_name": "Python 3 (ipykernel)",
   "language": "python",
   "name": "python3"
  },
  "language_info": {
   "codemirror_mode": {
    "name": "ipython",
    "version": 3
   },
   "file_extension": ".py",
   "mimetype": "text/x-python",
   "name": "python",
   "nbconvert_exporter": "python",
   "pygments_lexer": "ipython3",
   "version": "3.12.0"
  }
 },
 "nbformat": 4,
 "nbformat_minor": 5
}
