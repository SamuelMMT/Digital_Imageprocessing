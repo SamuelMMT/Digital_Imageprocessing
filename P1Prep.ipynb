{
 "cells": [
  {
   "cell_type": "code",
   "execution_count": 2,
   "id": "a4b14ca1",
   "metadata": {},
   "outputs": [],
   "source": [
    "#%matplotlib inline\n",
    "#%matplotlib notebook\n",
    "import numpy as np\n",
    "import cv2\n",
    "import matplotlib.pyplot as plt"
   ]
  },
  {
   "cell_type": "markdown",
   "id": "05a31e49",
   "metadata": {},
   "source": [
    "---\n",
    "#### P1Prep: Basics\n",
    "\n",
    "---\n",
    "<div class=\"alert alert-info\">\n",
    "<p>\n",
    "University of Applied Sciences Munich<br>\n",
    "Dept of Electrical Enineering and Information Technology<br>\n",
    "Institute for Applications of Machine Learning and Intelligent Systems (IAMLIS)<br>\n",
    "&emsp;&emsp;&emsp;&emsp;&emsp;&emsp;&emsp;&emsp;&emsp;&emsp;&emsp;&emsp;&emsp;&emsp;&emsp;&emsp;\n",
    "&emsp;&emsp;&emsp;&emsp;&emsp;&emsp;&emsp;&emsp;&emsp;&emsp;&emsp;&emsp;&emsp;&emsp;&emsp;&emsp;\n",
    "&emsp;&emsp;&emsp;&emsp;&emsp;&emsp;&emsp;&emsp;&emsp;&emsp;&emsp;&emsp;&emsp;&emsp;&emsp;&emsp;&emsp;&emsp;&emsp;&emsp;(c) Alfred Schöttl 2023<br>\n",
    "</p>\n",
    "</div>\n",
    "\n",
    "---\n",
    "In this notebook, we will get to know the first basics of OpenCV."
   ]
  },
  {
   "cell_type": "markdown",
   "id": "4c435ec8",
   "metadata": {},
   "source": [
    "### Instructions:\n",
    "Fill out the blank sections. You may need to look up details of the OpenCV commands in the OpenCV documentation https://docs.opencv.org/master/ (which is not very comfortable to read). Generally, all OpenCV commands are included from the library `cv2`, they therefore all start with `cv2.`"
   ]
  },
  {
   "cell_type": "markdown",
   "id": "d4b042cd",
   "metadata": {},
   "source": [
    "Our test file. You may be interested using your own image later on. _You may need to change the directory depending on where you have downloaded the image._"
   ]
  },
  {
   "cell_type": "code",
   "execution_count": 1,
   "id": "c3eec194",
   "metadata": {},
   "outputs": [],
   "source": [
    "fn = './imgs/threshold.jpg'"
   ]
  },
  {
   "cell_type": "markdown",
   "id": "ea2cd0f2",
   "metadata": {},
   "source": [
    "**1. Read in the file** (command `imread`).  \n",
    "Read in the file to the variable `img` with the command `cv2.imread(<filename>, cv2.IMREAD_GRAYSCALE)`. If no image was found, the return value of `imread` is `None`. Issue a warning if the image is not available."
   ]
  },
  {
   "cell_type": "code",
   "execution_count": 3,
   "id": "01c6186a",
   "metadata": {},
   "outputs": [],
   "source": [
    "img = \n",
    "\n"
   ]
  },
  {
   "cell_type": "markdown",
   "id": "0d1871a0",
   "metadata": {},
   "source": [
    "**2. Display the image.**  \n",
    "You may use the viewer which comes with OpenCV or another library to visualize matrix values. Using the OpenCV viewer is handy for simple tasks but not always the right choice. There are e.g. OpenCV versions for embedded systems which do not include the GUI parts. Visualizing with matplotlib allows the integration in Jupyter notebooks but may require more care to adjust the display style.<br>\n",
    "\n",
    "First use one of the options below to display our image.\n",
    "- by OpenCV: commands `cv2.imshow` and `cv2.waitkey(0)`\n",
    "- by matplotlib: commands `plt.imshow` and `plt.show()` \n",
    "\n",
    "The `waitkey` and the `show` command trigger the actual display of the figure. So make sure that these functions come after all other display commands. In Jupyter notebooks, `show` is not necessarily needed (but definitely in ordinary Python programs).\n",
    "\n",
    "_Try both variants!_\n",
    "\n",
    "_Tips_: \n",
    "- Your matplotlib image may be oddly colored. In this case use the `'gray'` color map to get a gray-valued image, `plt.imshow(..., cmap='gray')`.\n",
    "- You may get rid of the axis markers in matplotlib by `plt.axis(False)`\n",
    "- Look at the first line of this notebook. You may delete the comment before ONE of the lines `%matplotlib inline` or `%matplotlib notebook`. Try out these additional commands together with the matplotlib viewer. To activate these commands you have to restart the notebook kernel (press the >> button in the command pane of the notebook)."
   ]
  },
  {
   "cell_type": "code",
   "execution_count": null,
   "id": "952eab08",
   "metadata": {},
   "outputs": [],
   "source": [
    "\n",
    "\n",
    "\n",
    "\n"
   ]
  },
  {
   "cell_type": "markdown",
   "id": "cea882cd",
   "metadata": {},
   "source": [
    "**3. Investigate and modify the image.**  \n",
    "Images are stored as numpy arrays. You can use standard numpy commands. Here are some important basic operations you should be familiar with:\n",
    "- Print the number of rows and columns (the _shape_, numpy `.shape` attribute) \n",
    "- Print the data type of a pixel value. (numpy `.dtype` attribute), which should be `uint8` (a Byte, 0..255) for our image.\n",
    "- Print the gray value of the pixel (120, 64).\n",
    "- Change the gray value of this pixel to 255.\n",
    "- Change the gray value of the column 34 to 255.\n",
    "- Draw a black rectangle from (130, 20) to (180, 60) in the image.\n",
    "- Display the resulting image.\n",
    "\n",
    "_Remarks_:\n",
    "- Pixel coordinate indices start with 0, the first entry is the row index, the second the column index (just as with matrices).\n",
    "- You may use index ranges `img[... : ..., ... : ...]` as with all numpy arrays."
   ]
  },
  {
   "cell_type": "code",
   "execution_count": 1,
   "id": "600d37ae",
   "metadata": {},
   "outputs": [],
   "source": [
    "print(\n",
    "    \n",
    "    \n",
    "    \n"
   ]
  },
  {
   "cell_type": "markdown",
   "id": "cc0746a8",
   "metadata": {},
   "source": [
    "**4. Use bulk operations**  \n",
    "OpenCV stores images as 2D _matrices_ (or 3D _tensors_ if colored). You may therefore perform basic matrix operations on the whole image, such as `new_img = 2*img`, `new_img = img+10` or `new_img = img1+img2`. Numpy also defines the `.max()`, `.min()` and `.avg()` methods. _You do not need any loops for the following tasks!_\n",
    "- Print the maximum and the minimum value of the image.\n",
    "- Display the _inverted image_ (the whitish areas shall be displayed blackish and vice versa)\n",
    "- Create a modified image `img_mod` with the same content as `img` but that the maximum possible (not necessarily the maximum actual) value is 1. This operation automatically changes the pixel data type to float. Check your result by printing the maximum value of `img_mod`.\n",
    "\n",
    "_Remark_: You can explicitly get a copy of an image with a changed data type by `img.astype(np.uint8)`or `img.astype(float)`. This is not necessary in the following tasks."
   ]
  },
  {
   "cell_type": "code",
   "execution_count": 2,
   "id": "8402e4ac",
   "metadata": {},
   "outputs": [],
   "source": [
    "print(\n",
    "\n",
    "\n",
    "\n",
    "\n"
   ]
  },
  {
   "cell_type": "markdown",
   "id": "82904e49",
   "metadata": {},
   "source": [
    "**5. Simplify your code by functions**  \n",
    "It is very common in image processing that similar operations are needed several times or that you need to specify a lot of options difficult to remember in an OpenCV command. It can be very helpful to abbreviate these operations by a user-defined function.\n",
    "- Define the function `disp_img` to display a gray-valued image by matplotlib commands. Set the appropriate color map and switch off the axis markers for a nice result. Then, try your function with our `img_mod`.\n",
    "- Extend your function by an _optional_ argument `title` so that you may enter a title for the image. The matplotlib command `plt.title(...)` before `show()` allows to display a title above an image. This command shall only be executed if a title is actually entered.\n",
    "\n",
    "_Remark_: You may notice that `imshow` also works with float-type images such as `img_mod`. `imshow` checks the data type of the image and expects values between 0..255 for uint8 images and values between 0..1 for float images."
   ]
  },
  {
   "cell_type": "code",
   "execution_count": 3,
   "id": "548e9105",
   "metadata": {},
   "outputs": [],
   "source": [
    "def disp_img(img):\n",
    "\n",
    "    \n",
    "\n",
    "    \n"
   ]
  },
  {
   "cell_type": "markdown",
   "id": "f21039a2",
   "metadata": {},
   "source": [
    "**6. Additional remarks on reading and writing images**\n",
    "\n",
    "We use `cv2.imread` to read in images. The image data format of the file is maintained if no option is given. \n"
   ]
  },
  {
   "cell_type": "code",
   "execution_count": 4,
   "id": "537ddc75",
   "metadata": {},
   "outputs": [
    {
     "name": "stdout",
     "output_type": "stream",
     "text": [
      "(738, 1482, 3) uint8\n"
     ]
    }
   ],
   "source": [
    "img = cv2.imread(fn)\n",
    "print(img.shape, img.dtype)"
   ]
  },
  {
   "cell_type": "markdown",
   "id": "aea72648",
   "metadata": {},
   "source": [
    "The option `cv2.IMREAD_GRAYSCALE` automatically converts a colored image to grayscale during read-in. You may obtain the same result by reading in the file as colored image and apply the `cv2.cvtColor` command with `cv2.COLOR_BGR2GRAY` argument."
   ]
  },
  {
   "cell_type": "code",
   "execution_count": 6,
   "id": "10221059",
   "metadata": {},
   "outputs": [
    {
     "name": "stdout",
     "output_type": "stream",
     "text": [
      "(738, 1482) uint8\n",
      "(738, 1482) uint8\n"
     ]
    }
   ],
   "source": [
    "img = cv2.imread(fn, cv2.IMREAD_GRAYSCALE)\n",
    "print(img.shape, img.dtype)\n",
    "img2_colored = cv2.imread(fn)\n",
    "img2 = cv2.cvtColor(img2_colored, cv2.COLOR_BGR2GRAY);\n",
    "print(img2.shape, img2.dtype)"
   ]
  },
  {
   "cell_type": "markdown",
   "id": "6a643c90",
   "metadata": {},
   "source": [
    "Observe that a standard grayscale image does not have any channel (not even one). It may sometimes be convenient to convert the image to an image with one (explicit) channel by expanding the dimensions. Conversely, we can get rid of the additional dimension by indexing the channel."
   ]
  },
  {
   "cell_type": "code",
   "execution_count": 11,
   "id": "152e5c9e",
   "metadata": {},
   "outputs": [
    {
     "name": "stdout",
     "output_type": "stream",
     "text": [
      "(738, 1482, 1) uint8\n",
      "(738, 1482) uint8\n"
     ]
    }
   ],
   "source": [
    "img_exp = np.expand_dims(img, -1)     # -1: expand dimensions at the last position\n",
    "print(img_exp.shape, img_exp.dtype)\n",
    "img3 = img_exp[:,:,0]                 # channel number 0 selected\n",
    "print(img3.shape, img3.dtype)"
   ]
  },
  {
   "cell_type": "markdown",
   "id": "c4272d42",
   "metadata": {},
   "source": [
    "You may save your results by the `cv2.imwrite` command. The image is automatically converted to the correct file format if you specify the file name with the according file extension (use '.jpg' or '.png')."
   ]
  },
  {
   "cell_type": "code",
   "execution_count": 13,
   "id": "b2921a90",
   "metadata": {
    "scrolled": true
   },
   "outputs": [
    {
     "data": {
      "text/plain": [
       "True"
      ]
     },
     "execution_count": 13,
     "metadata": {},
     "output_type": "execute_result"
    }
   ],
   "source": [
    "cv2.imwrite('result.jpg', img)"
   ]
  }
 ],
 "metadata": {
  "kernelspec": {
   "display_name": "Python 3 (ipykernel)",
   "language": "python",
   "name": "python3"
  },
  "language_info": {
   "codemirror_mode": {
    "name": "ipython",
    "version": 3
   },
   "file_extension": ".py",
   "mimetype": "text/x-python",
   "name": "python",
   "nbconvert_exporter": "python",
   "pygments_lexer": "ipython3",
   "version": "3.9.13"
  }
 },
 "nbformat": 4,
 "nbformat_minor": 5
}
